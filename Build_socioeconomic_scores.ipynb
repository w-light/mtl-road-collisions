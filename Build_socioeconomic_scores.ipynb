{
 "cells": [
  {
   "cell_type": "markdown",
   "metadata": {},
   "source": [
    "### Building a socioeconomic score for Montreal census tracts (2016)\n",
    "\n",
    "This notebook documents the construction of a simple socioeconomic score for census tracts on the Island of Montreal, based on Census 2016 data from Statistics Canada.\n",
    "\n",
    "The social and demographic variables used include:\n",
    "\n",
    " - lone-parent households as a percent of all census families in private households\n",
    "\n",
    " - unemployment rate\n",
    "\n",
    " - prevalence of low-income based on low-income cut-offs, after-tax\n",
    "\n",
    " - educational achievement less than post-secondary for ages 25-64, as a percent of total respondents ages 25-64\n",
    "\n",
    " - population density\n",
    "\n"
   ]
  },
  {
   "cell_type": "code",
   "execution_count": 1,
   "metadata": {},
   "outputs": [],
   "source": [
    "## install necessary libraries\n",
    "\n",
    "import pandas as pd\n",
    "import numpy as np\n"
   ]
  },
  {
   "cell_type": "code",
   "execution_count": 2,
   "metadata": {},
   "outputs": [
    {
     "name": "stdout",
     "output_type": "stream",
     "text": [
      "Collecting jenkspy\n",
      "\u001b[?25l  Downloading https://files.pythonhosted.org/packages/bf/e6/ce363f30ac36550e0572c6cc878ea794776f7063dff8c1e2e4edad0aa63f/jenkspy-0.1.5.tar.gz (49kB)\n",
      "\u001b[K     |████████████████████████████████| 51kB 11.5MB/s eta 0:00:01\n",
      "\u001b[?25hBuilding wheels for collected packages: jenkspy\n",
      "  Building wheel for jenkspy (setup.py) ... \u001b[?25ldone\n",
      "\u001b[?25h  Stored in directory: /home/jupyterlab/.cache/pip/wheels/14/1d/b0/45b9ac586dd190ca029df1965fe9f497327506376d51422475\n",
      "Successfully built jenkspy\n",
      "Installing collected packages: jenkspy\n",
      "Successfully installed jenkspy-0.1.5\n"
     ]
    }
   ],
   "source": [
    "!pip install jenkspy"
   ]
  },
  {
   "cell_type": "code",
   "execution_count": 3,
   "metadata": {},
   "outputs": [],
   "source": [
    "import jenkspy"
   ]
  },
  {
   "cell_type": "markdown",
   "metadata": {},
   "source": [
    "#### Classifying census tracts by lone-parent household data"
   ]
  },
  {
   "cell_type": "markdown",
   "metadata": {},
   "source": [
    "Load lone-parent household data, and assign descriptive column headers based on names provided in CHASS_loneparent_data_headers.txt."
   ]
  },
  {
   "cell_type": "code",
   "execution_count": 4,
   "metadata": {},
   "outputs": [
    {
     "data": {
      "text/html": [
       "<div>\n",
       "<style scoped>\n",
       "    .dataframe tbody tr th:only-of-type {\n",
       "        vertical-align: middle;\n",
       "    }\n",
       "\n",
       "    .dataframe tbody tr th {\n",
       "        vertical-align: top;\n",
       "    }\n",
       "\n",
       "    .dataframe thead th {\n",
       "        text-align: right;\n",
       "    }\n",
       "</style>\n",
       "<table border=\"1\" class=\"dataframe\">\n",
       "  <thead>\n",
       "    <tr style=\"text-align: right;\">\n",
       "      <th></th>\n",
       "      <th>GEOUID</th>\n",
       "      <th>total_HHs</th>\n",
       "      <th>lonepar_HHs</th>\n",
       "    </tr>\n",
       "  </thead>\n",
       "  <tbody>\n",
       "    <tr>\n",
       "      <th>0</th>\n",
       "      <td>4620000.0</td>\n",
       "      <td>1101985.0</td>\n",
       "      <td>203895.0</td>\n",
       "    </tr>\n",
       "    <tr>\n",
       "      <th>1</th>\n",
       "      <td>4620001.0</td>\n",
       "      <td>680.0</td>\n",
       "      <td>190.0</td>\n",
       "    </tr>\n",
       "    <tr>\n",
       "      <th>2</th>\n",
       "      <td>4620002.0</td>\n",
       "      <td>905.0</td>\n",
       "      <td>265.0</td>\n",
       "    </tr>\n",
       "    <tr>\n",
       "      <th>3</th>\n",
       "      <td>4620003.0</td>\n",
       "      <td>1710.0</td>\n",
       "      <td>450.0</td>\n",
       "    </tr>\n",
       "    <tr>\n",
       "      <th>4</th>\n",
       "      <td>4620004.0</td>\n",
       "      <td>820.0</td>\n",
       "      <td>210.0</td>\n",
       "    </tr>\n",
       "  </tbody>\n",
       "</table>\n",
       "</div>"
      ],
      "text/plain": [
       "      GEOUID  total_HHs  lonepar_HHs\n",
       "0  4620000.0  1101985.0     203895.0\n",
       "1  4620001.0      680.0        190.0\n",
       "2  4620002.0      905.0        265.0\n",
       "3  4620003.0     1710.0        450.0\n",
       "4  4620004.0      820.0        210.0"
      ]
     },
     "execution_count": 4,
     "metadata": {},
     "output_type": "execute_result"
    }
   ],
   "source": [
    "lonepar_df = pd.read_csv(\"CHASS_loneparent_data.csv\")\n",
    "\n",
    "lonepar_df.rename(columns={\"COL0\": \"GEOUID\", \"COL1\":\"total_HHs\", \"COL2\":\"lonepar_HHs\"}, inplace=True)\n",
    "\n",
    "lonepar_df.head()"
   ]
  },
  {
   "cell_type": "markdown",
   "metadata": {},
   "source": [
    "Drop the first row, which is data for all of Montreal. Then calculate lone-parent family households as a percent of all family households."
   ]
  },
  {
   "cell_type": "code",
   "execution_count": 5,
   "metadata": {},
   "outputs": [],
   "source": [
    "lonepar_df.drop(0, inplace=True)\n",
    "\n",
    "lonepar_df[\"%_lonepar_HHs\"] = lonepar_df[\"lonepar_HHs\"] / lonepar_df[\"total_HHs\"]"
   ]
  },
  {
   "cell_type": "code",
   "execution_count": 6,
   "metadata": {},
   "outputs": [
    {
     "data": {
      "text/html": [
       "<div>\n",
       "<style scoped>\n",
       "    .dataframe tbody tr th:only-of-type {\n",
       "        vertical-align: middle;\n",
       "    }\n",
       "\n",
       "    .dataframe tbody tr th {\n",
       "        vertical-align: top;\n",
       "    }\n",
       "\n",
       "    .dataframe thead th {\n",
       "        text-align: right;\n",
       "    }\n",
       "</style>\n",
       "<table border=\"1\" class=\"dataframe\">\n",
       "  <thead>\n",
       "    <tr style=\"text-align: right;\">\n",
       "      <th></th>\n",
       "      <th>GEOUID</th>\n",
       "      <th>total_HHs</th>\n",
       "      <th>lonepar_HHs</th>\n",
       "      <th>%_lonepar_HHs</th>\n",
       "    </tr>\n",
       "  </thead>\n",
       "  <tbody>\n",
       "    <tr>\n",
       "      <th>1</th>\n",
       "      <td>4620001.0</td>\n",
       "      <td>680.0</td>\n",
       "      <td>190.0</td>\n",
       "      <td>0.279412</td>\n",
       "    </tr>\n",
       "    <tr>\n",
       "      <th>2</th>\n",
       "      <td>4620002.0</td>\n",
       "      <td>905.0</td>\n",
       "      <td>265.0</td>\n",
       "      <td>0.292818</td>\n",
       "    </tr>\n",
       "    <tr>\n",
       "      <th>3</th>\n",
       "      <td>4620003.0</td>\n",
       "      <td>1710.0</td>\n",
       "      <td>450.0</td>\n",
       "      <td>0.263158</td>\n",
       "    </tr>\n",
       "    <tr>\n",
       "      <th>4</th>\n",
       "      <td>4620004.0</td>\n",
       "      <td>820.0</td>\n",
       "      <td>210.0</td>\n",
       "      <td>0.256098</td>\n",
       "    </tr>\n",
       "    <tr>\n",
       "      <th>5</th>\n",
       "      <td>4620005.0</td>\n",
       "      <td>795.0</td>\n",
       "      <td>195.0</td>\n",
       "      <td>0.245283</td>\n",
       "    </tr>\n",
       "  </tbody>\n",
       "</table>\n",
       "</div>"
      ],
      "text/plain": [
       "      GEOUID  total_HHs  lonepar_HHs  %_lonepar_HHs\n",
       "1  4620001.0      680.0        190.0       0.279412\n",
       "2  4620002.0      905.0        265.0       0.292818\n",
       "3  4620003.0     1710.0        450.0       0.263158\n",
       "4  4620004.0      820.0        210.0       0.256098\n",
       "5  4620005.0      795.0        195.0       0.245283"
      ]
     },
     "execution_count": 6,
     "metadata": {},
     "output_type": "execute_result"
    }
   ],
   "source": [
    "lonepar_df.head()"
   ]
  },
  {
   "cell_type": "markdown",
   "metadata": {},
   "source": [
    "Check for NA values. \n",
    "\n",
    "Because it won't make sense to rank census tracts with some NA values, fill the NA values with the mean percent of lone-parent households."
   ]
  },
  {
   "cell_type": "code",
   "execution_count": 7,
   "metadata": {},
   "outputs": [
    {
     "data": {
      "text/plain": [
       "GEOUID            0\n",
       "total_HHs        19\n",
       "lonepar_HHs      19\n",
       "%_lonepar_HHs    19\n",
       "dtype: int64"
      ]
     },
     "execution_count": 7,
     "metadata": {},
     "output_type": "execute_result"
    }
   ],
   "source": [
    "lonepar_df.isna().sum()"
   ]
  },
  {
   "cell_type": "code",
   "execution_count": 8,
   "metadata": {},
   "outputs": [
    {
     "data": {
      "text/plain": [
       "0"
      ]
     },
     "execution_count": 8,
     "metadata": {},
     "output_type": "execute_result"
    }
   ],
   "source": [
    "lonepar_df['%_lonepar_HHs'].fillna(lonepar_df['%_lonepar_HHs'].mean(), inplace=True)\n",
    "lonepar_df['%_lonepar_HHs'].isnull().sum()"
   ]
  },
  {
   "cell_type": "markdown",
   "metadata": {},
   "source": [
    "Cluster the lone-parent household data based on the Jenks natural breaks classification method. Assign a number (rank) to each cluster and census tract. "
   ]
  },
  {
   "cell_type": "code",
   "execution_count": 9,
   "metadata": {},
   "outputs": [
    {
     "name": "stdout",
     "output_type": "stream",
     "text": [
      "[0.03636363636363636, 0.13333333333333333, 0.1791907514450867, 0.22777777777777777, 0.2962962962962963, 0.5169491525423728]\n"
     ]
    }
   ],
   "source": [
    "lonepar_values = lonepar_df['%_lonepar_HHs']\n",
    "\n",
    "lonepar_breaks = jenkspy.jenks_breaks(lonepar_values, nb_class = 5)\n",
    "print(lonepar_breaks)"
   ]
  },
  {
   "cell_type": "code",
   "execution_count": 10,
   "metadata": {},
   "outputs": [
    {
     "data": {
      "text/html": [
       "<div>\n",
       "<style scoped>\n",
       "    .dataframe tbody tr th:only-of-type {\n",
       "        vertical-align: middle;\n",
       "    }\n",
       "\n",
       "    .dataframe tbody tr th {\n",
       "        vertical-align: top;\n",
       "    }\n",
       "\n",
       "    .dataframe thead th {\n",
       "        text-align: right;\n",
       "    }\n",
       "</style>\n",
       "<table border=\"1\" class=\"dataframe\">\n",
       "  <thead>\n",
       "    <tr style=\"text-align: right;\">\n",
       "      <th></th>\n",
       "      <th>GEOUID</th>\n",
       "      <th>total_HHs</th>\n",
       "      <th>lonepar_HHs</th>\n",
       "      <th>%_lonepar_HHs</th>\n",
       "      <th>lonepar_rank</th>\n",
       "    </tr>\n",
       "  </thead>\n",
       "  <tbody>\n",
       "    <tr>\n",
       "      <th>1</th>\n",
       "      <td>4620001.0</td>\n",
       "      <td>680.0</td>\n",
       "      <td>190.0</td>\n",
       "      <td>0.279412</td>\n",
       "      <td>4</td>\n",
       "    </tr>\n",
       "    <tr>\n",
       "      <th>2</th>\n",
       "      <td>4620002.0</td>\n",
       "      <td>905.0</td>\n",
       "      <td>265.0</td>\n",
       "      <td>0.292818</td>\n",
       "      <td>4</td>\n",
       "    </tr>\n",
       "    <tr>\n",
       "      <th>3</th>\n",
       "      <td>4620003.0</td>\n",
       "      <td>1710.0</td>\n",
       "      <td>450.0</td>\n",
       "      <td>0.263158</td>\n",
       "      <td>4</td>\n",
       "    </tr>\n",
       "    <tr>\n",
       "      <th>4</th>\n",
       "      <td>4620004.0</td>\n",
       "      <td>820.0</td>\n",
       "      <td>210.0</td>\n",
       "      <td>0.256098</td>\n",
       "      <td>4</td>\n",
       "    </tr>\n",
       "    <tr>\n",
       "      <th>5</th>\n",
       "      <td>4620005.0</td>\n",
       "      <td>795.0</td>\n",
       "      <td>195.0</td>\n",
       "      <td>0.245283</td>\n",
       "      <td>4</td>\n",
       "    </tr>\n",
       "  </tbody>\n",
       "</table>\n",
       "</div>"
      ],
      "text/plain": [
       "      GEOUID  total_HHs  lonepar_HHs  %_lonepar_HHs lonepar_rank\n",
       "1  4620001.0      680.0        190.0       0.279412            4\n",
       "2  4620002.0      905.0        265.0       0.292818            4\n",
       "3  4620003.0     1710.0        450.0       0.263158            4\n",
       "4  4620004.0      820.0        210.0       0.256098            4\n",
       "5  4620005.0      795.0        195.0       0.245283            4"
      ]
     },
     "execution_count": 10,
     "metadata": {},
     "output_type": "execute_result"
    }
   ],
   "source": [
    "labels = [1, 2, 3, 4, 5]\n",
    "\n",
    "lonepar_df['lonepar_rank'] = pd.cut(lonepar_df['%_lonepar_HHs'], bins = lonepar_breaks, \\\n",
    "                                   labels = labels, include_lowest=True)\n",
    "\n",
    "lonepar_df.head()"
   ]
  },
  {
   "cell_type": "markdown",
   "metadata": {},
   "source": [
    "Check how many census tracts have been assigned to each rank."
   ]
  },
  {
   "cell_type": "code",
   "execution_count": 11,
   "metadata": {},
   "outputs": [
    {
     "data": {
      "text/plain": [
       "3    281\n",
       "2    275\n",
       "4    188\n",
       "1    179\n",
       "5     47\n",
       "Name: lonepar_rank, dtype: int64"
      ]
     },
     "execution_count": 11,
     "metadata": {},
     "output_type": "execute_result"
    }
   ],
   "source": [
    "lonepar_df['lonepar_rank'].value_counts()"
   ]
  },
  {
   "cell_type": "markdown",
   "metadata": {},
   "source": [
    "Note that the ranking of % lone-parent households is from low to high.\n",
    "\n",
    "1 = census tracts with a low percentage of lone-parent households <br>\n",
    "5 = census tracts with a high percentage of lone-parent households\n",
    "\n",
    "Save the rankings in their own dataframe, to be merged into a df with ranks from all other variables later on. "
   ]
  },
  {
   "cell_type": "code",
   "execution_count": 12,
   "metadata": {},
   "outputs": [],
   "source": [
    "lonepar_classed = lonepar_df[['GEOUID', 'lonepar_rank']].copy()"
   ]
  },
  {
   "cell_type": "markdown",
   "metadata": {},
   "source": [
    "#### Classifying census tracts by educational achievement data\n",
    "\n",
    "Load education data, and assign descriptive column headers based on names provided in CHASS_education_data_headers.txt."
   ]
  },
  {
   "cell_type": "code",
   "execution_count": 13,
   "metadata": {},
   "outputs": [
    {
     "data": {
      "text/html": [
       "<div>\n",
       "<style scoped>\n",
       "    .dataframe tbody tr th:only-of-type {\n",
       "        vertical-align: middle;\n",
       "    }\n",
       "\n",
       "    .dataframe tbody tr th {\n",
       "        vertical-align: top;\n",
       "    }\n",
       "\n",
       "    .dataframe thead th {\n",
       "        text-align: right;\n",
       "    }\n",
       "</style>\n",
       "<table border=\"1\" class=\"dataframe\">\n",
       "  <thead>\n",
       "    <tr style=\"text-align: right;\">\n",
       "      <th></th>\n",
       "      <th>COL0</th>\n",
       "      <th>COL1</th>\n",
       "      <th>COL2</th>\n",
       "      <th>COL3</th>\n",
       "    </tr>\n",
       "  </thead>\n",
       "  <tbody>\n",
       "    <tr>\n",
       "      <th>0</th>\n",
       "      <td>4620000.0</td>\n",
       "      <td>2224010.0</td>\n",
       "      <td>250525.0</td>\n",
       "      <td>407255.0</td>\n",
       "    </tr>\n",
       "    <tr>\n",
       "      <th>1</th>\n",
       "      <td>4620001.0</td>\n",
       "      <td>1590.0</td>\n",
       "      <td>265.0</td>\n",
       "      <td>310.0</td>\n",
       "    </tr>\n",
       "    <tr>\n",
       "      <th>2</th>\n",
       "      <td>4620002.0</td>\n",
       "      <td>1955.0</td>\n",
       "      <td>345.0</td>\n",
       "      <td>415.0</td>\n",
       "    </tr>\n",
       "    <tr>\n",
       "      <th>3</th>\n",
       "      <td>4620003.0</td>\n",
       "      <td>3555.0</td>\n",
       "      <td>590.0</td>\n",
       "      <td>800.0</td>\n",
       "    </tr>\n",
       "    <tr>\n",
       "      <th>4</th>\n",
       "      <td>4620004.0</td>\n",
       "      <td>1920.0</td>\n",
       "      <td>280.0</td>\n",
       "      <td>455.0</td>\n",
       "    </tr>\n",
       "  </tbody>\n",
       "</table>\n",
       "</div>"
      ],
      "text/plain": [
       "        COL0       COL1      COL2      COL3\n",
       "0  4620000.0  2224010.0  250525.0  407255.0\n",
       "1  4620001.0     1590.0     265.0     310.0\n",
       "2  4620002.0     1955.0     345.0     415.0\n",
       "3  4620003.0     3555.0     590.0     800.0\n",
       "4  4620004.0     1920.0     280.0     455.0"
      ]
     },
     "execution_count": 13,
     "metadata": {},
     "output_type": "execute_result"
    }
   ],
   "source": [
    "edu_df = pd.read_csv(\"CHASS_education_data.csv\")\n",
    "edu_df.head()"
   ]
  },
  {
   "cell_type": "markdown",
   "metadata": {},
   "source": [
    "Rename columns. Drop the first row. "
   ]
  },
  {
   "cell_type": "code",
   "execution_count": 14,
   "metadata": {},
   "outputs": [],
   "source": [
    "edu_df.rename(columns={\"COL0\": \"GEOUID\", \"COL1\": \"n_respondents\", \"COL2\":\"n_noDiploma\", \\\n",
    "                       \"COL3\":\"diploma\"}, inplace=True)"
   ]
  },
  {
   "cell_type": "code",
   "execution_count": 15,
   "metadata": {},
   "outputs": [
    {
     "data": {
      "text/html": [
       "<div>\n",
       "<style scoped>\n",
       "    .dataframe tbody tr th:only-of-type {\n",
       "        vertical-align: middle;\n",
       "    }\n",
       "\n",
       "    .dataframe tbody tr th {\n",
       "        vertical-align: top;\n",
       "    }\n",
       "\n",
       "    .dataframe thead th {\n",
       "        text-align: right;\n",
       "    }\n",
       "</style>\n",
       "<table border=\"1\" class=\"dataframe\">\n",
       "  <thead>\n",
       "    <tr style=\"text-align: right;\">\n",
       "      <th></th>\n",
       "      <th>GEOUID</th>\n",
       "      <th>n_respondents</th>\n",
       "      <th>n_noDiploma</th>\n",
       "      <th>diploma</th>\n",
       "    </tr>\n",
       "  </thead>\n",
       "  <tbody>\n",
       "    <tr>\n",
       "      <th>1</th>\n",
       "      <td>4620001.0</td>\n",
       "      <td>1590.0</td>\n",
       "      <td>265.0</td>\n",
       "      <td>310.0</td>\n",
       "    </tr>\n",
       "    <tr>\n",
       "      <th>2</th>\n",
       "      <td>4620002.0</td>\n",
       "      <td>1955.0</td>\n",
       "      <td>345.0</td>\n",
       "      <td>415.0</td>\n",
       "    </tr>\n",
       "    <tr>\n",
       "      <th>3</th>\n",
       "      <td>4620003.0</td>\n",
       "      <td>3555.0</td>\n",
       "      <td>590.0</td>\n",
       "      <td>800.0</td>\n",
       "    </tr>\n",
       "    <tr>\n",
       "      <th>4</th>\n",
       "      <td>4620004.0</td>\n",
       "      <td>1920.0</td>\n",
       "      <td>280.0</td>\n",
       "      <td>455.0</td>\n",
       "    </tr>\n",
       "    <tr>\n",
       "      <th>5</th>\n",
       "      <td>4620005.0</td>\n",
       "      <td>1810.0</td>\n",
       "      <td>305.0</td>\n",
       "      <td>385.0</td>\n",
       "    </tr>\n",
       "  </tbody>\n",
       "</table>\n",
       "</div>"
      ],
      "text/plain": [
       "      GEOUID  n_respondents  n_noDiploma  diploma\n",
       "1  4620001.0         1590.0        265.0    310.0\n",
       "2  4620002.0         1955.0        345.0    415.0\n",
       "3  4620003.0         3555.0        590.0    800.0\n",
       "4  4620004.0         1920.0        280.0    455.0\n",
       "5  4620005.0         1810.0        305.0    385.0"
      ]
     },
     "execution_count": 15,
     "metadata": {},
     "output_type": "execute_result"
    }
   ],
   "source": [
    "edu_df.drop(0, inplace=True)\n",
    "\n",
    "edu_df.head()"
   ]
  },
  {
   "cell_type": "markdown",
   "metadata": {},
   "source": [
    "Find number of respondents who have a high school diploma or less as a percent of total respondents."
   ]
  },
  {
   "cell_type": "code",
   "execution_count": 16,
   "metadata": {},
   "outputs": [],
   "source": [
    "edu_df[\"%_diplomaOrLess\"] = (edu_df['n_noDiploma'] + edu_df['diploma']) / edu_df['n_respondents']"
   ]
  },
  {
   "cell_type": "code",
   "execution_count": 17,
   "metadata": {},
   "outputs": [
    {
     "data": {
      "text/html": [
       "<div>\n",
       "<style scoped>\n",
       "    .dataframe tbody tr th:only-of-type {\n",
       "        vertical-align: middle;\n",
       "    }\n",
       "\n",
       "    .dataframe tbody tr th {\n",
       "        vertical-align: top;\n",
       "    }\n",
       "\n",
       "    .dataframe thead th {\n",
       "        text-align: right;\n",
       "    }\n",
       "</style>\n",
       "<table border=\"1\" class=\"dataframe\">\n",
       "  <thead>\n",
       "    <tr style=\"text-align: right;\">\n",
       "      <th></th>\n",
       "      <th>GEOUID</th>\n",
       "      <th>n_respondents</th>\n",
       "      <th>n_noDiploma</th>\n",
       "      <th>diploma</th>\n",
       "      <th>%_diplomaOrLess</th>\n",
       "    </tr>\n",
       "  </thead>\n",
       "  <tbody>\n",
       "    <tr>\n",
       "      <th>1</th>\n",
       "      <td>4620001.0</td>\n",
       "      <td>1590.0</td>\n",
       "      <td>265.0</td>\n",
       "      <td>310.0</td>\n",
       "      <td>0.361635</td>\n",
       "    </tr>\n",
       "    <tr>\n",
       "      <th>2</th>\n",
       "      <td>4620002.0</td>\n",
       "      <td>1955.0</td>\n",
       "      <td>345.0</td>\n",
       "      <td>415.0</td>\n",
       "      <td>0.388747</td>\n",
       "    </tr>\n",
       "    <tr>\n",
       "      <th>3</th>\n",
       "      <td>4620003.0</td>\n",
       "      <td>3555.0</td>\n",
       "      <td>590.0</td>\n",
       "      <td>800.0</td>\n",
       "      <td>0.390999</td>\n",
       "    </tr>\n",
       "    <tr>\n",
       "      <th>4</th>\n",
       "      <td>4620004.0</td>\n",
       "      <td>1920.0</td>\n",
       "      <td>280.0</td>\n",
       "      <td>455.0</td>\n",
       "      <td>0.382812</td>\n",
       "    </tr>\n",
       "    <tr>\n",
       "      <th>5</th>\n",
       "      <td>4620005.0</td>\n",
       "      <td>1810.0</td>\n",
       "      <td>305.0</td>\n",
       "      <td>385.0</td>\n",
       "      <td>0.381215</td>\n",
       "    </tr>\n",
       "  </tbody>\n",
       "</table>\n",
       "</div>"
      ],
      "text/plain": [
       "      GEOUID  n_respondents  n_noDiploma  diploma  %_diplomaOrLess\n",
       "1  4620001.0         1590.0        265.0    310.0         0.361635\n",
       "2  4620002.0         1955.0        345.0    415.0         0.388747\n",
       "3  4620003.0         3555.0        590.0    800.0         0.390999\n",
       "4  4620004.0         1920.0        280.0    455.0         0.382812\n",
       "5  4620005.0         1810.0        305.0    385.0         0.381215"
      ]
     },
     "execution_count": 17,
     "metadata": {},
     "output_type": "execute_result"
    }
   ],
   "source": [
    "edu_df.head()"
   ]
  },
  {
   "cell_type": "markdown",
   "metadata": {},
   "source": [
    "Check for NA values and fill NAs with the mean."
   ]
  },
  {
   "cell_type": "code",
   "execution_count": 18,
   "metadata": {},
   "outputs": [
    {
     "data": {
      "text/plain": [
       "19"
      ]
     },
     "execution_count": 18,
     "metadata": {},
     "output_type": "execute_result"
    }
   ],
   "source": [
    "edu_df['%_diplomaOrLess'].isna().sum()"
   ]
  },
  {
   "cell_type": "code",
   "execution_count": 19,
   "metadata": {},
   "outputs": [
    {
     "data": {
      "text/plain": [
       "0"
      ]
     },
     "execution_count": 19,
     "metadata": {},
     "output_type": "execute_result"
    }
   ],
   "source": [
    "\n",
    "edu_df['%_diplomaOrLess'].fillna(edu_df['%_diplomaOrLess'].mean(), inplace=True)\n",
    "edu_df['%_diplomaOrLess'].isna().sum()\n"
   ]
  },
  {
   "cell_type": "markdown",
   "metadata": {},
   "source": [
    "Classify the data using Jenks natural breaks. "
   ]
  },
  {
   "cell_type": "code",
   "execution_count": 20,
   "metadata": {},
   "outputs": [
    {
     "name": "stdout",
     "output_type": "stream",
     "text": [
      "[0.02586206896551724, 0.17257683215130024, 0.2582236842105263, 0.34275618374558303, 0.43453237410071943, 0.7446808510638298]\n"
     ]
    }
   ],
   "source": [
    "edu_values = edu_df['%_diplomaOrLess']\n",
    "\n",
    "edu_breaks = jenkspy.jenks_breaks(edu_values, nb_class=5)\n",
    "\n",
    "print(edu_breaks)\n"
   ]
  },
  {
   "cell_type": "code",
   "execution_count": 21,
   "metadata": {},
   "outputs": [],
   "source": [
    "labels = [1, 2, 3, 4, 5]\n",
    "\n",
    "edu_df['edu_rank'] = pd.cut(edu_df['%_diplomaOrLess'], bins = edu_breaks, \\\n",
    "                           labels = labels, include_lowest=True)\n"
   ]
  },
  {
   "cell_type": "markdown",
   "metadata": {},
   "source": [
    "Check how many census tracts have been assigned to each rank."
   ]
  },
  {
   "cell_type": "code",
   "execution_count": 22,
   "metadata": {},
   "outputs": [
    {
     "data": {
      "text/plain": [
       "3    309\n",
       "4    230\n",
       "2    200\n",
       "1    158\n",
       "5     73\n",
       "Name: edu_rank, dtype: int64"
      ]
     },
     "execution_count": 22,
     "metadata": {},
     "output_type": "execute_result"
    }
   ],
   "source": [
    "edu_df['edu_rank'].value_counts()"
   ]
  },
  {
   "cell_type": "markdown",
   "metadata": {},
   "source": [
    "Note that the rank of census tracts by % with low educational achievement is from low to high.\n",
    "\n",
    "1 = a small percentage of respondents have only a high school diploma or less <br> \n",
    "5 = a large percentage of respondents have only a high school diploma or less\n",
    "\n",
    "Save the rankings in a new df to be used later on."
   ]
  },
  {
   "cell_type": "code",
   "execution_count": 23,
   "metadata": {},
   "outputs": [],
   "source": [
    "edu_classed = edu_df[['GEOUID', 'edu_rank']].copy()"
   ]
  },
  {
   "cell_type": "markdown",
   "metadata": {},
   "source": [
    "#### Classifying census tracts by rates of unemployment and prevalence of low-income households\n",
    "\n",
    "Load the unemployment and low-income rate data. <br>Assign descriptive column headers based on names provided in CHASS_unemployment_and_lowincome_data_headers.txt. <br>Drop the first row, which is a combined total for all of Montreal. <br> Break into two dataframes to be treated one at a time."
   ]
  },
  {
   "cell_type": "code",
   "execution_count": 24,
   "metadata": {},
   "outputs": [],
   "source": [
    "df = pd.read_csv(\"CHASS_unemploy_and_lowincome_data.csv\")\n"
   ]
  },
  {
   "cell_type": "code",
   "execution_count": 25,
   "metadata": {},
   "outputs": [
    {
     "data": {
      "text/html": [
       "<div>\n",
       "<style scoped>\n",
       "    .dataframe tbody tr th:only-of-type {\n",
       "        vertical-align: middle;\n",
       "    }\n",
       "\n",
       "    .dataframe tbody tr th {\n",
       "        vertical-align: top;\n",
       "    }\n",
       "\n",
       "    .dataframe thead th {\n",
       "        text-align: right;\n",
       "    }\n",
       "</style>\n",
       "<table border=\"1\" class=\"dataframe\">\n",
       "  <thead>\n",
       "    <tr style=\"text-align: right;\">\n",
       "      <th></th>\n",
       "      <th>GEOUID</th>\n",
       "      <th>%lowIncome</th>\n",
       "      <th>unemployRate</th>\n",
       "    </tr>\n",
       "  </thead>\n",
       "  <tbody>\n",
       "    <tr>\n",
       "      <th>1</th>\n",
       "      <td>4620001.0</td>\n",
       "      <td>16.8</td>\n",
       "      <td>5.0</td>\n",
       "    </tr>\n",
       "    <tr>\n",
       "      <th>2</th>\n",
       "      <td>4620002.0</td>\n",
       "      <td>16.6</td>\n",
       "      <td>6.4</td>\n",
       "    </tr>\n",
       "    <tr>\n",
       "      <th>3</th>\n",
       "      <td>4620003.0</td>\n",
       "      <td>15.2</td>\n",
       "      <td>9.3</td>\n",
       "    </tr>\n",
       "    <tr>\n",
       "      <th>4</th>\n",
       "      <td>4620004.0</td>\n",
       "      <td>14.7</td>\n",
       "      <td>10.2</td>\n",
       "    </tr>\n",
       "    <tr>\n",
       "      <th>5</th>\n",
       "      <td>4620005.0</td>\n",
       "      <td>16.3</td>\n",
       "      <td>9.3</td>\n",
       "    </tr>\n",
       "  </tbody>\n",
       "</table>\n",
       "</div>"
      ],
      "text/plain": [
       "      GEOUID  %lowIncome  unemployRate\n",
       "1  4620001.0        16.8           5.0\n",
       "2  4620002.0        16.6           6.4\n",
       "3  4620003.0        15.2           9.3\n",
       "4  4620004.0        14.7          10.2\n",
       "5  4620005.0        16.3           9.3"
      ]
     },
     "execution_count": 25,
     "metadata": {},
     "output_type": "execute_result"
    }
   ],
   "source": [
    "df.rename(columns = {\"COL7\":\"%lowIncome\", \"COL10\":\"unemployRate\"}, inplace=True)\n",
    "\n",
    "df.drop(0, inplace=True)\n",
    "df.head()"
   ]
  },
  {
   "cell_type": "markdown",
   "metadata": {},
   "source": [
    "Break into two dataframes."
   ]
  },
  {
   "cell_type": "code",
   "execution_count": 26,
   "metadata": {},
   "outputs": [],
   "source": [
    "lowInc_df = df[['GEOUID', '%lowIncome']].copy()\n",
    "\n",
    "unemp_df = df[['GEOUID', 'unemployRate']].copy()"
   ]
  },
  {
   "cell_type": "markdown",
   "metadata": {},
   "source": [
    "Note these data are already expressed as percentages. \n",
    "\n",
    "For each df, fill NAs with the mean.\n"
   ]
  },
  {
   "cell_type": "code",
   "execution_count": 27,
   "metadata": {},
   "outputs": [
    {
     "data": {
      "text/plain": [
       "0"
      ]
     },
     "execution_count": 27,
     "metadata": {},
     "output_type": "execute_result"
    }
   ],
   "source": [
    "lowInc_df['%lowIncome'].fillna(lowInc_df['%lowIncome'].mean(), inplace=True)\n",
    "\n",
    "lowInc_df['%lowIncome'].isna().sum()"
   ]
  },
  {
   "cell_type": "code",
   "execution_count": 28,
   "metadata": {},
   "outputs": [
    {
     "data": {
      "text/plain": [
       "0"
      ]
     },
     "execution_count": 28,
     "metadata": {},
     "output_type": "execute_result"
    }
   ],
   "source": [
    "unemp_df['unemployRate'].fillna(unemp_df['unemployRate'].mean(), inplace=True)\n",
    "\n",
    "unemp_df['unemployRate'].isna().sum()"
   ]
  },
  {
   "cell_type": "markdown",
   "metadata": {},
   "source": [
    "Working on the unemployment data first, find the natural breaks and classify."
   ]
  },
  {
   "cell_type": "code",
   "execution_count": 29,
   "metadata": {},
   "outputs": [
    {
     "name": "stdout",
     "output_type": "stream",
     "text": [
      "[1.9, 6.2, 9.1, 13.3, 26.9]\n"
     ]
    }
   ],
   "source": [
    "unemp_values = unemp_df['unemployRate']\n",
    "unemp_breaks = jenkspy.jenks_breaks(unemp_values, nb_class=4)\n",
    "\n",
    "print(unemp_breaks)"
   ]
  },
  {
   "cell_type": "code",
   "execution_count": 30,
   "metadata": {},
   "outputs": [
    {
     "data": {
      "text/plain": [
       "2    359\n",
       "1    351\n",
       "3    206\n",
       "4     54\n",
       "Name: unemp_rank, dtype: int64"
      ]
     },
     "execution_count": 30,
     "metadata": {},
     "output_type": "execute_result"
    }
   ],
   "source": [
    "labels = [1, 2, 3, 4]\n",
    "\n",
    "unemp_df['unemp_rank'] = pd.cut(unemp_df['unemployRate'], bins = unemp_breaks, \\\n",
    "                               labels=labels, include_lowest=True)\n",
    "\n",
    "unemp_df['unemp_rank'].value_counts()"
   ]
  },
  {
   "cell_type": "markdown",
   "metadata": {},
   "source": [
    "Note that the ranking of unemployment is from low to high.\n",
    "\n",
    "1 = census tracts with a low unemployment rate <br>\n",
    "5 = census tracts with a high unemployment rate\n",
    "\n",
    "Save the rankings in their own df to be used later."
   ]
  },
  {
   "cell_type": "code",
   "execution_count": 31,
   "metadata": {},
   "outputs": [],
   "source": [
    "unemp_classed = unemp_df[[\"GEOUID\", \"unemp_rank\"]].copy()"
   ]
  },
  {
   "cell_type": "markdown",
   "metadata": {},
   "source": [
    "Repeat the steps for the low-income data."
   ]
  },
  {
   "cell_type": "code",
   "execution_count": 32,
   "metadata": {},
   "outputs": [
    {
     "name": "stdout",
     "output_type": "stream",
     "text": [
      "[0.6, 9.8, 19.7, 33.7, 58.3]\n"
     ]
    }
   ],
   "source": [
    "lowInc_values = lowInc_df['%lowIncome']\n",
    "\n",
    "lowInc_breaks = jenkspy.jenks_breaks(lowInc_values, nb_class = 4)\n",
    "print(lowInc_breaks)"
   ]
  },
  {
   "cell_type": "code",
   "execution_count": 33,
   "metadata": {},
   "outputs": [
    {
     "data": {
      "text/plain": [
       "1    425\n",
       "2    303\n",
       "3    214\n",
       "4     28\n",
       "Name: lowInc_rank, dtype: int64"
      ]
     },
     "execution_count": 33,
     "metadata": {},
     "output_type": "execute_result"
    }
   ],
   "source": [
    "labels = [1, 2, 3, 4]\n",
    "\n",
    "lowInc_df['lowInc_rank'] = pd.cut(lowInc_df['%lowIncome'], bins=lowInc_breaks, \\\n",
    "                                 labels=labels, include_lowest=True)\n",
    "\n",
    "lowInc_df['lowInc_rank'].value_counts()"
   ]
  },
  {
   "cell_type": "markdown",
   "metadata": {},
   "source": [
    "Note that the ranking of census tracts by low-income rate is from low to high.\n",
    "\n",
    "1 = census tracts with a low percentage of low-income households <br>\n",
    "4 = census tracts with a high percentage of low-income households\n",
    "\n",
    "Save the ranking in a new df to be used later."
   ]
  },
  {
   "cell_type": "code",
   "execution_count": 34,
   "metadata": {},
   "outputs": [],
   "source": [
    "lowInc_classed = lowInc_df[['GEOUID','lowInc_rank']].copy()"
   ]
  },
  {
   "cell_type": "markdown",
   "metadata": {},
   "source": [
    "#### Classifying census tracts by population density\n",
    "\n",
    "Load the population density data. <br>Drop the first row, which is a combined total for all of Montreal. <br> Rename columns."
   ]
  },
  {
   "cell_type": "code",
   "execution_count": 35,
   "metadata": {},
   "outputs": [
    {
     "data": {
      "text/html": [
       "<div>\n",
       "<style scoped>\n",
       "    .dataframe tbody tr th:only-of-type {\n",
       "        vertical-align: middle;\n",
       "    }\n",
       "\n",
       "    .dataframe tbody tr th {\n",
       "        vertical-align: top;\n",
       "    }\n",
       "\n",
       "    .dataframe thead th {\n",
       "        text-align: right;\n",
       "    }\n",
       "</style>\n",
       "<table border=\"1\" class=\"dataframe\">\n",
       "  <thead>\n",
       "    <tr style=\"text-align: right;\">\n",
       "      <th></th>\n",
       "      <th>geo_uidSTR</th>\n",
       "      <th>pop_per_sqkm</th>\n",
       "      <th>pop_total_2016</th>\n",
       "    </tr>\n",
       "  </thead>\n",
       "  <tbody>\n",
       "    <tr>\n",
       "      <th>0</th>\n",
       "      <td>4620000.0</td>\n",
       "      <td>890.2</td>\n",
       "      <td>4098927.0</td>\n",
       "    </tr>\n",
       "    <tr>\n",
       "      <th>1</th>\n",
       "      <td>4620001.0</td>\n",
       "      <td>5710.0</td>\n",
       "      <td>2638.0</td>\n",
       "    </tr>\n",
       "    <tr>\n",
       "      <th>2</th>\n",
       "      <td>4620002.0</td>\n",
       "      <td>9029.3</td>\n",
       "      <td>3516.0</td>\n",
       "    </tr>\n",
       "    <tr>\n",
       "      <th>3</th>\n",
       "      <td>4620003.0</td>\n",
       "      <td>8612.2</td>\n",
       "      <td>6373.0</td>\n",
       "    </tr>\n",
       "    <tr>\n",
       "      <th>4</th>\n",
       "      <td>4620004.0</td>\n",
       "      <td>7087.7</td>\n",
       "      <td>3176.0</td>\n",
       "    </tr>\n",
       "  </tbody>\n",
       "</table>\n",
       "</div>"
      ],
      "text/plain": [
       "   geo_uidSTR  pop_per_sqkm  pop_total_2016\n",
       "0   4620000.0         890.2       4098927.0\n",
       "1   4620001.0        5710.0          2638.0\n",
       "2   4620002.0        9029.3          3516.0\n",
       "3   4620003.0        8612.2          6373.0\n",
       "4   4620004.0        7087.7          3176.0"
      ]
     },
     "execution_count": 35,
     "metadata": {},
     "output_type": "execute_result"
    }
   ],
   "source": [
    "pop_df = pd.read_csv(\"CHASS_pop_density_data.csv\")\n",
    "pop_df.head()"
   ]
  },
  {
   "cell_type": "code",
   "execution_count": 36,
   "metadata": {},
   "outputs": [],
   "source": [
    "pop_df.rename(columns={\"geo_uidSTR\": \"GEOUID\"}, inplace=True)"
   ]
  },
  {
   "cell_type": "code",
   "execution_count": 37,
   "metadata": {},
   "outputs": [],
   "source": [
    "pop_df.drop(0, inplace=True)"
   ]
  },
  {
   "cell_type": "markdown",
   "metadata": {},
   "source": [
    "Fill NAs in pop_per_sq_km with the mean population density."
   ]
  },
  {
   "cell_type": "code",
   "execution_count": 38,
   "metadata": {},
   "outputs": [
    {
     "data": {
      "text/plain": [
       "0"
      ]
     },
     "execution_count": 38,
     "metadata": {},
     "output_type": "execute_result"
    }
   ],
   "source": [
    "pop_df['pop_per_sqkm'].fillna(pop_df['pop_per_sqkm'].mean(), inplace=True)\n",
    "pop_df['pop_per_sqkm'].isna().sum()"
   ]
  },
  {
   "cell_type": "markdown",
   "metadata": {},
   "source": [
    "Find the natural breaks in pop_per_sqkm and classify."
   ]
  },
  {
   "cell_type": "code",
   "execution_count": 39,
   "metadata": {},
   "outputs": [
    {
     "name": "stdout",
     "output_type": "stream",
     "text": [
      "[0.0, 4618.4, 10616.1, 22856.1, 50277.6]\n"
     ]
    }
   ],
   "source": [
    "pop_values = pop_df['pop_per_sqkm']\n",
    "\n",
    "pop_breaks = jenkspy.jenks_breaks(pop_values, nb_class=4)\n",
    "print(pop_breaks)\n",
    "\n"
   ]
  },
  {
   "cell_type": "code",
   "execution_count": 40,
   "metadata": {},
   "outputs": [
    {
     "data": {
      "text/plain": [
       "1    556\n",
       "2    252\n",
       "3    157\n",
       "4      5\n",
       "Name: pop_rank, dtype: int64"
      ]
     },
     "execution_count": 40,
     "metadata": {},
     "output_type": "execute_result"
    }
   ],
   "source": [
    "labels = [1,2,3,4]\n",
    "\n",
    "pop_df['pop_rank'] = pd.cut(pop_df['pop_per_sqkm'], bins=pop_breaks, \\\n",
    "                          labels=labels, include_lowest=True)\n",
    "\n",
    "pop_df['pop_rank'].value_counts()"
   ]
  },
  {
   "cell_type": "markdown",
   "metadata": {},
   "source": [
    "Save the ranking in a new df for use later.\n",
    "Note that population density is ranked from low to high, and higher density is considered here as less desirable.\n",
    "\n",
    "1 = low population density  \n",
    "4 = high population density  "
   ]
  },
  {
   "cell_type": "code",
   "execution_count": 41,
   "metadata": {},
   "outputs": [],
   "source": [
    "pop_classed = pop_df[['GEOUID', 'pop_rank']].copy()"
   ]
  },
  {
   "cell_type": "markdown",
   "metadata": {},
   "source": [
    "#### Collating the rankings from each variable into one dataframe"
   ]
  },
  {
   "cell_type": "markdown",
   "metadata": {},
   "source": [
    "Set the index for all dfs on the column 'GEOUID' so that they can be joined."
   ]
  },
  {
   "cell_type": "code",
   "execution_count": 42,
   "metadata": {},
   "outputs": [],
   "source": [
    "pop_classed = pop_classed.set_index('GEOUID')\n",
    "lowInc_classed = lowInc_classed.set_index('GEOUID')\n",
    "unemp_classed = unemp_classed.set_index('GEOUID')\n",
    "edu_classed = edu_classed.set_index('GEOUID')\n",
    "lonepar_classed = lonepar_classed.set_index('GEOUID')"
   ]
  },
  {
   "cell_type": "markdown",
   "metadata": {},
   "source": [
    "Join all the dfs."
   ]
  },
  {
   "cell_type": "code",
   "execution_count": 43,
   "metadata": {},
   "outputs": [],
   "source": [
    "from functools import reduce"
   ]
  },
  {
   "cell_type": "code",
   "execution_count": 44,
   "metadata": {},
   "outputs": [],
   "source": [
    "dfs = [pop_classed, lowInc_classed, unemp_classed, edu_classed, lonepar_classed]\n",
    "\n",
    "rank_merged = reduce(lambda left,right: pd.merge(left,right,on=['GEOUID'],\n",
    "                                                how='outer'), dfs)\n",
    "\n"
   ]
  },
  {
   "cell_type": "code",
   "execution_count": 45,
   "metadata": {},
   "outputs": [
    {
     "data": {
      "text/html": [
       "<div>\n",
       "<style scoped>\n",
       "    .dataframe tbody tr th:only-of-type {\n",
       "        vertical-align: middle;\n",
       "    }\n",
       "\n",
       "    .dataframe tbody tr th {\n",
       "        vertical-align: top;\n",
       "    }\n",
       "\n",
       "    .dataframe thead th {\n",
       "        text-align: right;\n",
       "    }\n",
       "</style>\n",
       "<table border=\"1\" class=\"dataframe\">\n",
       "  <thead>\n",
       "    <tr style=\"text-align: right;\">\n",
       "      <th></th>\n",
       "      <th>pop_rank</th>\n",
       "      <th>lowInc_rank</th>\n",
       "      <th>unemp_rank</th>\n",
       "      <th>edu_rank</th>\n",
       "      <th>lonepar_rank</th>\n",
       "    </tr>\n",
       "    <tr>\n",
       "      <th>GEOUID</th>\n",
       "      <th></th>\n",
       "      <th></th>\n",
       "      <th></th>\n",
       "      <th></th>\n",
       "      <th></th>\n",
       "    </tr>\n",
       "  </thead>\n",
       "  <tbody>\n",
       "    <tr>\n",
       "      <th>4620001.0</th>\n",
       "      <td>2</td>\n",
       "      <td>2</td>\n",
       "      <td>1</td>\n",
       "      <td>4</td>\n",
       "      <td>4</td>\n",
       "    </tr>\n",
       "    <tr>\n",
       "      <th>4620002.0</th>\n",
       "      <td>2</td>\n",
       "      <td>2</td>\n",
       "      <td>2</td>\n",
       "      <td>4</td>\n",
       "      <td>4</td>\n",
       "    </tr>\n",
       "    <tr>\n",
       "      <th>4620003.0</th>\n",
       "      <td>2</td>\n",
       "      <td>2</td>\n",
       "      <td>3</td>\n",
       "      <td>4</td>\n",
       "      <td>4</td>\n",
       "    </tr>\n",
       "    <tr>\n",
       "      <th>4620004.0</th>\n",
       "      <td>2</td>\n",
       "      <td>2</td>\n",
       "      <td>3</td>\n",
       "      <td>4</td>\n",
       "      <td>4</td>\n",
       "    </tr>\n",
       "    <tr>\n",
       "      <th>4620005.0</th>\n",
       "      <td>2</td>\n",
       "      <td>2</td>\n",
       "      <td>3</td>\n",
       "      <td>4</td>\n",
       "      <td>4</td>\n",
       "    </tr>\n",
       "  </tbody>\n",
       "</table>\n",
       "</div>"
      ],
      "text/plain": [
       "          pop_rank lowInc_rank unemp_rank edu_rank lonepar_rank\n",
       "GEOUID                                                         \n",
       "4620001.0        2           2          1        4            4\n",
       "4620002.0        2           2          2        4            4\n",
       "4620003.0        2           2          3        4            4\n",
       "4620004.0        2           2          3        4            4\n",
       "4620005.0        2           2          3        4            4"
      ]
     },
     "execution_count": 45,
     "metadata": {},
     "output_type": "execute_result"
    }
   ],
   "source": [
    "rank_merged.head()"
   ]
  },
  {
   "cell_type": "markdown",
   "metadata": {},
   "source": [
    "Create a new column for the sum of the rankings, and one for the sum divided by the highest possible score (5 + 5 + 4 + 4 + 4 = 22).  \n",
    "Invert the score so that low scores mean low socioeconomic status and higher scores mean higher status."
   ]
  },
  {
   "cell_type": "code",
   "execution_count": 46,
   "metadata": {},
   "outputs": [],
   "source": [
    "rank_merged['sum'] = rank_merged.sum(axis=1)"
   ]
  },
  {
   "cell_type": "code",
   "execution_count": 47,
   "metadata": {},
   "outputs": [],
   "source": [
    "rank_merged['score'] = 1 - (rank_merged['sum']/22) "
   ]
  },
  {
   "cell_type": "code",
   "execution_count": 49,
   "metadata": {},
   "outputs": [],
   "source": [
    "rank_merged['score'] = rank_merged['score'].round(decimals=2)"
   ]
  },
  {
   "cell_type": "code",
   "execution_count": 50,
   "metadata": {},
   "outputs": [
    {
     "data": {
      "text/html": [
       "<div>\n",
       "<style scoped>\n",
       "    .dataframe tbody tr th:only-of-type {\n",
       "        vertical-align: middle;\n",
       "    }\n",
       "\n",
       "    .dataframe tbody tr th {\n",
       "        vertical-align: top;\n",
       "    }\n",
       "\n",
       "    .dataframe thead th {\n",
       "        text-align: right;\n",
       "    }\n",
       "</style>\n",
       "<table border=\"1\" class=\"dataframe\">\n",
       "  <thead>\n",
       "    <tr style=\"text-align: right;\">\n",
       "      <th></th>\n",
       "      <th>pop_rank</th>\n",
       "      <th>lowInc_rank</th>\n",
       "      <th>unemp_rank</th>\n",
       "      <th>edu_rank</th>\n",
       "      <th>lonepar_rank</th>\n",
       "      <th>sum</th>\n",
       "      <th>score</th>\n",
       "    </tr>\n",
       "    <tr>\n",
       "      <th>GEOUID</th>\n",
       "      <th></th>\n",
       "      <th></th>\n",
       "      <th></th>\n",
       "      <th></th>\n",
       "      <th></th>\n",
       "      <th></th>\n",
       "      <th></th>\n",
       "    </tr>\n",
       "  </thead>\n",
       "  <tbody>\n",
       "    <tr>\n",
       "      <th>4620001.0</th>\n",
       "      <td>2</td>\n",
       "      <td>2</td>\n",
       "      <td>1</td>\n",
       "      <td>4</td>\n",
       "      <td>4</td>\n",
       "      <td>13.0</td>\n",
       "      <td>0.41</td>\n",
       "    </tr>\n",
       "    <tr>\n",
       "      <th>4620002.0</th>\n",
       "      <td>2</td>\n",
       "      <td>2</td>\n",
       "      <td>2</td>\n",
       "      <td>4</td>\n",
       "      <td>4</td>\n",
       "      <td>14.0</td>\n",
       "      <td>0.36</td>\n",
       "    </tr>\n",
       "    <tr>\n",
       "      <th>4620003.0</th>\n",
       "      <td>2</td>\n",
       "      <td>2</td>\n",
       "      <td>3</td>\n",
       "      <td>4</td>\n",
       "      <td>4</td>\n",
       "      <td>15.0</td>\n",
       "      <td>0.32</td>\n",
       "    </tr>\n",
       "    <tr>\n",
       "      <th>4620004.0</th>\n",
       "      <td>2</td>\n",
       "      <td>2</td>\n",
       "      <td>3</td>\n",
       "      <td>4</td>\n",
       "      <td>4</td>\n",
       "      <td>15.0</td>\n",
       "      <td>0.32</td>\n",
       "    </tr>\n",
       "    <tr>\n",
       "      <th>4620005.0</th>\n",
       "      <td>2</td>\n",
       "      <td>2</td>\n",
       "      <td>3</td>\n",
       "      <td>4</td>\n",
       "      <td>4</td>\n",
       "      <td>15.0</td>\n",
       "      <td>0.32</td>\n",
       "    </tr>\n",
       "  </tbody>\n",
       "</table>\n",
       "</div>"
      ],
      "text/plain": [
       "          pop_rank lowInc_rank unemp_rank edu_rank lonepar_rank   sum  score\n",
       "GEOUID                                                                      \n",
       "4620001.0        2           2          1        4            4  13.0   0.41\n",
       "4620002.0        2           2          2        4            4  14.0   0.36\n",
       "4620003.0        2           2          3        4            4  15.0   0.32\n",
       "4620004.0        2           2          3        4            4  15.0   0.32\n",
       "4620005.0        2           2          3        4            4  15.0   0.32"
      ]
     },
     "execution_count": 50,
     "metadata": {},
     "output_type": "execute_result"
    }
   ],
   "source": [
    "rank_merged.head()"
   ]
  },
  {
   "cell_type": "code",
   "execution_count": 52,
   "metadata": {},
   "outputs": [
    {
     "data": {
      "text/plain": [
       "count    970.000000\n",
       "mean       0.504907\n",
       "std        0.153200\n",
       "min        0.050000\n",
       "25%        0.410000\n",
       "50%        0.500000\n",
       "75%        0.640000\n",
       "max        0.770000\n",
       "Name: score, dtype: float64"
      ]
     },
     "execution_count": 52,
     "metadata": {},
     "output_type": "execute_result"
    }
   ],
   "source": [
    "rank_merged['score'].describe()"
   ]
  },
  {
   "cell_type": "markdown",
   "metadata": {},
   "source": [
    "Bring back the total population from pop_df to check that scores have been derived from a population of reasonable size."
   ]
  },
  {
   "cell_type": "code",
   "execution_count": 56,
   "metadata": {},
   "outputs": [],
   "source": [
    "dfs2 = [rank_merged, pop_df]\n",
    "\n",
    "scoreAndPop = reduce(lambda left,right: pd.merge(left,right,on=['GEOUID'],\n",
    "                                                how='outer'), dfs2)"
   ]
  },
  {
   "cell_type": "code",
   "execution_count": 57,
   "metadata": {},
   "outputs": [
    {
     "data": {
      "text/html": [
       "<div>\n",
       "<style scoped>\n",
       "    .dataframe tbody tr th:only-of-type {\n",
       "        vertical-align: middle;\n",
       "    }\n",
       "\n",
       "    .dataframe tbody tr th {\n",
       "        vertical-align: top;\n",
       "    }\n",
       "\n",
       "    .dataframe thead th {\n",
       "        text-align: right;\n",
       "    }\n",
       "</style>\n",
       "<table border=\"1\" class=\"dataframe\">\n",
       "  <thead>\n",
       "    <tr style=\"text-align: right;\">\n",
       "      <th></th>\n",
       "      <th>GEOUID</th>\n",
       "      <th>pop_rank_x</th>\n",
       "      <th>lowInc_rank</th>\n",
       "      <th>unemp_rank</th>\n",
       "      <th>edu_rank</th>\n",
       "      <th>lonepar_rank</th>\n",
       "      <th>sum</th>\n",
       "      <th>score</th>\n",
       "      <th>pop_per_sqkm</th>\n",
       "      <th>pop_total_2016</th>\n",
       "      <th>pop_rank_y</th>\n",
       "    </tr>\n",
       "  </thead>\n",
       "  <tbody>\n",
       "    <tr>\n",
       "      <th>0</th>\n",
       "      <td>4620001.0</td>\n",
       "      <td>2</td>\n",
       "      <td>2</td>\n",
       "      <td>1</td>\n",
       "      <td>4</td>\n",
       "      <td>4</td>\n",
       "      <td>13.0</td>\n",
       "      <td>0.41</td>\n",
       "      <td>5710.0</td>\n",
       "      <td>2638.0</td>\n",
       "      <td>2</td>\n",
       "    </tr>\n",
       "    <tr>\n",
       "      <th>1</th>\n",
       "      <td>4620002.0</td>\n",
       "      <td>2</td>\n",
       "      <td>2</td>\n",
       "      <td>2</td>\n",
       "      <td>4</td>\n",
       "      <td>4</td>\n",
       "      <td>14.0</td>\n",
       "      <td>0.36</td>\n",
       "      <td>9029.3</td>\n",
       "      <td>3516.0</td>\n",
       "      <td>2</td>\n",
       "    </tr>\n",
       "    <tr>\n",
       "      <th>2</th>\n",
       "      <td>4620003.0</td>\n",
       "      <td>2</td>\n",
       "      <td>2</td>\n",
       "      <td>3</td>\n",
       "      <td>4</td>\n",
       "      <td>4</td>\n",
       "      <td>15.0</td>\n",
       "      <td>0.32</td>\n",
       "      <td>8612.2</td>\n",
       "      <td>6373.0</td>\n",
       "      <td>2</td>\n",
       "    </tr>\n",
       "    <tr>\n",
       "      <th>3</th>\n",
       "      <td>4620004.0</td>\n",
       "      <td>2</td>\n",
       "      <td>2</td>\n",
       "      <td>3</td>\n",
       "      <td>4</td>\n",
       "      <td>4</td>\n",
       "      <td>15.0</td>\n",
       "      <td>0.32</td>\n",
       "      <td>7087.7</td>\n",
       "      <td>3176.0</td>\n",
       "      <td>2</td>\n",
       "    </tr>\n",
       "    <tr>\n",
       "      <th>4</th>\n",
       "      <td>4620005.0</td>\n",
       "      <td>2</td>\n",
       "      <td>2</td>\n",
       "      <td>3</td>\n",
       "      <td>4</td>\n",
       "      <td>4</td>\n",
       "      <td>15.0</td>\n",
       "      <td>0.32</td>\n",
       "      <td>5418.8</td>\n",
       "      <td>3060.0</td>\n",
       "      <td>2</td>\n",
       "    </tr>\n",
       "  </tbody>\n",
       "</table>\n",
       "</div>"
      ],
      "text/plain": [
       "      GEOUID pop_rank_x lowInc_rank unemp_rank edu_rank lonepar_rank   sum  \\\n",
       "0  4620001.0          2           2          1        4            4  13.0   \n",
       "1  4620002.0          2           2          2        4            4  14.0   \n",
       "2  4620003.0          2           2          3        4            4  15.0   \n",
       "3  4620004.0          2           2          3        4            4  15.0   \n",
       "4  4620005.0          2           2          3        4            4  15.0   \n",
       "\n",
       "   score  pop_per_sqkm  pop_total_2016 pop_rank_y  \n",
       "0   0.41        5710.0          2638.0          2  \n",
       "1   0.36        9029.3          3516.0          2  \n",
       "2   0.32        8612.2          6373.0          2  \n",
       "3   0.32        7087.7          3176.0          2  \n",
       "4   0.32        5418.8          3060.0          2  "
      ]
     },
     "execution_count": 57,
     "metadata": {},
     "output_type": "execute_result"
    }
   ],
   "source": [
    "scoreAndPop.head()"
   ]
  },
  {
   "cell_type": "code",
   "execution_count": 58,
   "metadata": {},
   "outputs": [],
   "source": [
    "scoreAndPop.drop(['pop_rank_y'], axis=1, inplace=True)"
   ]
  },
  {
   "cell_type": "markdown",
   "metadata": {},
   "source": [
    "Look at the census tracts with the smallest populations. (I initially checked the 20 smallest and decided that the smallest 17 were too small to use). "
   ]
  },
  {
   "cell_type": "code",
   "execution_count": 65,
   "metadata": {},
   "outputs": [
    {
     "data": {
      "text/html": [
       "<div>\n",
       "<style scoped>\n",
       "    .dataframe tbody tr th:only-of-type {\n",
       "        vertical-align: middle;\n",
       "    }\n",
       "\n",
       "    .dataframe tbody tr th {\n",
       "        vertical-align: top;\n",
       "    }\n",
       "\n",
       "    .dataframe thead th {\n",
       "        text-align: right;\n",
       "    }\n",
       "</style>\n",
       "<table border=\"1\" class=\"dataframe\">\n",
       "  <thead>\n",
       "    <tr style=\"text-align: right;\">\n",
       "      <th></th>\n",
       "      <th>GEOUID</th>\n",
       "      <th>pop_rank_x</th>\n",
       "      <th>lowInc_rank</th>\n",
       "      <th>unemp_rank</th>\n",
       "      <th>edu_rank</th>\n",
       "      <th>lonepar_rank</th>\n",
       "      <th>sum</th>\n",
       "      <th>score</th>\n",
       "      <th>pop_per_sqkm</th>\n",
       "      <th>pop_total_2016</th>\n",
       "    </tr>\n",
       "  </thead>\n",
       "  <tbody>\n",
       "    <tr>\n",
       "      <th>15</th>\n",
       "      <td>4620014.02</td>\n",
       "      <td>1</td>\n",
       "      <td>2</td>\n",
       "      <td>2</td>\n",
       "      <td>3</td>\n",
       "      <td>3</td>\n",
       "      <td>11.0</td>\n",
       "      <td>0.5</td>\n",
       "      <td>0.0</td>\n",
       "      <td>0.0</td>\n",
       "    </tr>\n",
       "    <tr>\n",
       "      <th>40</th>\n",
       "      <td>4620040.00</td>\n",
       "      <td>1</td>\n",
       "      <td>2</td>\n",
       "      <td>2</td>\n",
       "      <td>3</td>\n",
       "      <td>3</td>\n",
       "      <td>11.0</td>\n",
       "      <td>0.5</td>\n",
       "      <td>0.0</td>\n",
       "      <td>0.0</td>\n",
       "    </tr>\n",
       "    <tr>\n",
       "      <th>76</th>\n",
       "      <td>4620071.00</td>\n",
       "      <td>1</td>\n",
       "      <td>2</td>\n",
       "      <td>2</td>\n",
       "      <td>3</td>\n",
       "      <td>3</td>\n",
       "      <td>11.0</td>\n",
       "      <td>0.5</td>\n",
       "      <td>0.0</td>\n",
       "      <td>0.0</td>\n",
       "    </tr>\n",
       "    <tr>\n",
       "      <th>159</th>\n",
       "      <td>4620145.00</td>\n",
       "      <td>1</td>\n",
       "      <td>2</td>\n",
       "      <td>2</td>\n",
       "      <td>3</td>\n",
       "      <td>3</td>\n",
       "      <td>11.0</td>\n",
       "      <td>0.5</td>\n",
       "      <td>0.0</td>\n",
       "      <td>0.0</td>\n",
       "    </tr>\n",
       "    <tr>\n",
       "      <th>206</th>\n",
       "      <td>4620189.00</td>\n",
       "      <td>1</td>\n",
       "      <td>2</td>\n",
       "      <td>2</td>\n",
       "      <td>3</td>\n",
       "      <td>3</td>\n",
       "      <td>11.0</td>\n",
       "      <td>0.5</td>\n",
       "      <td>0.0</td>\n",
       "      <td>0.0</td>\n",
       "    </tr>\n",
       "    <tr>\n",
       "      <th>250</th>\n",
       "      <td>4620229.00</td>\n",
       "      <td>1</td>\n",
       "      <td>2</td>\n",
       "      <td>2</td>\n",
       "      <td>3</td>\n",
       "      <td>3</td>\n",
       "      <td>11.0</td>\n",
       "      <td>0.5</td>\n",
       "      <td>0.0</td>\n",
       "      <td>0.0</td>\n",
       "    </tr>\n",
       "    <tr>\n",
       "      <th>290</th>\n",
       "      <td>4620268.03</td>\n",
       "      <td>1</td>\n",
       "      <td>2</td>\n",
       "      <td>2</td>\n",
       "      <td>3</td>\n",
       "      <td>3</td>\n",
       "      <td>11.0</td>\n",
       "      <td>0.5</td>\n",
       "      <td>0.0</td>\n",
       "      <td>0.0</td>\n",
       "    </tr>\n",
       "    <tr>\n",
       "      <th>940</th>\n",
       "      <td>4622006.00</td>\n",
       "      <td>1</td>\n",
       "      <td>2</td>\n",
       "      <td>2</td>\n",
       "      <td>3</td>\n",
       "      <td>3</td>\n",
       "      <td>11.0</td>\n",
       "      <td>0.5</td>\n",
       "      <td>0.0</td>\n",
       "      <td>0.0</td>\n",
       "    </tr>\n",
       "    <tr>\n",
       "      <th>965</th>\n",
       "      <td>4622303.00</td>\n",
       "      <td>1</td>\n",
       "      <td>2</td>\n",
       "      <td>2</td>\n",
       "      <td>3</td>\n",
       "      <td>3</td>\n",
       "      <td>11.0</td>\n",
       "      <td>0.5</td>\n",
       "      <td>0.0</td>\n",
       "      <td>0.0</td>\n",
       "    </tr>\n",
       "    <tr>\n",
       "      <th>96</th>\n",
       "      <td>4620091.00</td>\n",
       "      <td>1</td>\n",
       "      <td>2</td>\n",
       "      <td>2</td>\n",
       "      <td>3</td>\n",
       "      <td>3</td>\n",
       "      <td>11.0</td>\n",
       "      <td>0.5</td>\n",
       "      <td>5.0</td>\n",
       "      <td>5.0</td>\n",
       "    </tr>\n",
       "    <tr>\n",
       "      <th>100</th>\n",
       "      <td>4620094.02</td>\n",
       "      <td>1</td>\n",
       "      <td>2</td>\n",
       "      <td>2</td>\n",
       "      <td>3</td>\n",
       "      <td>3</td>\n",
       "      <td>11.0</td>\n",
       "      <td>0.5</td>\n",
       "      <td>2.7</td>\n",
       "      <td>5.0</td>\n",
       "    </tr>\n",
       "    <tr>\n",
       "      <th>140</th>\n",
       "      <td>4620127.02</td>\n",
       "      <td>1</td>\n",
       "      <td>2</td>\n",
       "      <td>2</td>\n",
       "      <td>3</td>\n",
       "      <td>3</td>\n",
       "      <td>11.0</td>\n",
       "      <td>0.5</td>\n",
       "      <td>3.8</td>\n",
       "      <td>5.0</td>\n",
       "    </tr>\n",
       "    <tr>\n",
       "      <th>427</th>\n",
       "      <td>4620440.00</td>\n",
       "      <td>1</td>\n",
       "      <td>2</td>\n",
       "      <td>2</td>\n",
       "      <td>3</td>\n",
       "      <td>3</td>\n",
       "      <td>11.0</td>\n",
       "      <td>0.5</td>\n",
       "      <td>26.1</td>\n",
       "      <td>5.0</td>\n",
       "    </tr>\n",
       "    <tr>\n",
       "      <th>944</th>\n",
       "      <td>4622010.00</td>\n",
       "      <td>1</td>\n",
       "      <td>2</td>\n",
       "      <td>2</td>\n",
       "      <td>3</td>\n",
       "      <td>3</td>\n",
       "      <td>11.0</td>\n",
       "      <td>0.5</td>\n",
       "      <td>1.4</td>\n",
       "      <td>5.0</td>\n",
       "    </tr>\n",
       "    <tr>\n",
       "      <th>894</th>\n",
       "      <td>4620887.07</td>\n",
       "      <td>1</td>\n",
       "      <td>2</td>\n",
       "      <td>2</td>\n",
       "      <td>3</td>\n",
       "      <td>3</td>\n",
       "      <td>11.0</td>\n",
       "      <td>0.5</td>\n",
       "      <td>2.0</td>\n",
       "      <td>20.0</td>\n",
       "    </tr>\n",
       "    <tr>\n",
       "      <th>937</th>\n",
       "      <td>4622003.00</td>\n",
       "      <td>1</td>\n",
       "      <td>2</td>\n",
       "      <td>2</td>\n",
       "      <td>3</td>\n",
       "      <td>3</td>\n",
       "      <td>11.0</td>\n",
       "      <td>0.5</td>\n",
       "      <td>66.0</td>\n",
       "      <td>130.0</td>\n",
       "    </tr>\n",
       "    <tr>\n",
       "      <th>340</th>\n",
       "      <td>4620315.00</td>\n",
       "      <td>1</td>\n",
       "      <td>2</td>\n",
       "      <td>2</td>\n",
       "      <td>3</td>\n",
       "      <td>3</td>\n",
       "      <td>11.0</td>\n",
       "      <td>0.5</td>\n",
       "      <td>295.9</td>\n",
       "      <td>240.0</td>\n",
       "    </tr>\n",
       "  </tbody>\n",
       "</table>\n",
       "</div>"
      ],
      "text/plain": [
       "         GEOUID pop_rank_x lowInc_rank unemp_rank edu_rank lonepar_rank   sum  \\\n",
       "15   4620014.02          1           2          2        3            3  11.0   \n",
       "40   4620040.00          1           2          2        3            3  11.0   \n",
       "76   4620071.00          1           2          2        3            3  11.0   \n",
       "159  4620145.00          1           2          2        3            3  11.0   \n",
       "206  4620189.00          1           2          2        3            3  11.0   \n",
       "250  4620229.00          1           2          2        3            3  11.0   \n",
       "290  4620268.03          1           2          2        3            3  11.0   \n",
       "940  4622006.00          1           2          2        3            3  11.0   \n",
       "965  4622303.00          1           2          2        3            3  11.0   \n",
       "96   4620091.00          1           2          2        3            3  11.0   \n",
       "100  4620094.02          1           2          2        3            3  11.0   \n",
       "140  4620127.02          1           2          2        3            3  11.0   \n",
       "427  4620440.00          1           2          2        3            3  11.0   \n",
       "944  4622010.00          1           2          2        3            3  11.0   \n",
       "894  4620887.07          1           2          2        3            3  11.0   \n",
       "937  4622003.00          1           2          2        3            3  11.0   \n",
       "340  4620315.00          1           2          2        3            3  11.0   \n",
       "\n",
       "     score  pop_per_sqkm  pop_total_2016  \n",
       "15     0.5           0.0             0.0  \n",
       "40     0.5           0.0             0.0  \n",
       "76     0.5           0.0             0.0  \n",
       "159    0.5           0.0             0.0  \n",
       "206    0.5           0.0             0.0  \n",
       "250    0.5           0.0             0.0  \n",
       "290    0.5           0.0             0.0  \n",
       "940    0.5           0.0             0.0  \n",
       "965    0.5           0.0             0.0  \n",
       "96     0.5           5.0             5.0  \n",
       "100    0.5           2.7             5.0  \n",
       "140    0.5           3.8             5.0  \n",
       "427    0.5          26.1             5.0  \n",
       "944    0.5           1.4             5.0  \n",
       "894    0.5           2.0            20.0  \n",
       "937    0.5          66.0           130.0  \n",
       "340    0.5         295.9           240.0  "
      ]
     },
     "execution_count": 65,
     "metadata": {},
     "output_type": "execute_result"
    }
   ],
   "source": [
    "too_small = scoreAndPop.nsmallest(17, 'pop_total_2016')\n",
    "too_small"
   ]
  },
  {
   "cell_type": "code",
   "execution_count": 66,
   "metadata": {},
   "outputs": [],
   "source": [
    "final_df = scoreAndPop[~scoreAndPop.isin(too_small)].dropna()"
   ]
  },
  {
   "cell_type": "markdown",
   "metadata": {},
   "source": [
    "The final dataframe includes only census tracts that have a population of 417 or more. "
   ]
  },
  {
   "cell_type": "code",
   "execution_count": 67,
   "metadata": {},
   "outputs": [
    {
     "data": {
      "text/html": [
       "<div>\n",
       "<style scoped>\n",
       "    .dataframe tbody tr th:only-of-type {\n",
       "        vertical-align: middle;\n",
       "    }\n",
       "\n",
       "    .dataframe tbody tr th {\n",
       "        vertical-align: top;\n",
       "    }\n",
       "\n",
       "    .dataframe thead th {\n",
       "        text-align: right;\n",
       "    }\n",
       "</style>\n",
       "<table border=\"1\" class=\"dataframe\">\n",
       "  <thead>\n",
       "    <tr style=\"text-align: right;\">\n",
       "      <th></th>\n",
       "      <th>GEOUID</th>\n",
       "      <th>pop_rank_x</th>\n",
       "      <th>lowInc_rank</th>\n",
       "      <th>unemp_rank</th>\n",
       "      <th>edu_rank</th>\n",
       "      <th>lonepar_rank</th>\n",
       "      <th>sum</th>\n",
       "      <th>score</th>\n",
       "      <th>pop_per_sqkm</th>\n",
       "      <th>pop_total_2016</th>\n",
       "    </tr>\n",
       "  </thead>\n",
       "  <tbody>\n",
       "    <tr>\n",
       "      <th>936</th>\n",
       "      <td>4622002.00</td>\n",
       "      <td>1</td>\n",
       "      <td>1</td>\n",
       "      <td>1</td>\n",
       "      <td>2</td>\n",
       "      <td>1</td>\n",
       "      <td>6.0</td>\n",
       "      <td>0.73</td>\n",
       "      <td>18.8</td>\n",
       "      <td>417.0</td>\n",
       "    </tr>\n",
       "    <tr>\n",
       "      <th>180</th>\n",
       "      <td>4620166.00</td>\n",
       "      <td>1</td>\n",
       "      <td>2</td>\n",
       "      <td>1</td>\n",
       "      <td>2</td>\n",
       "      <td>2</td>\n",
       "      <td>8.0</td>\n",
       "      <td>0.64</td>\n",
       "      <td>2091.1</td>\n",
       "      <td>491.0</td>\n",
       "    </tr>\n",
       "    <tr>\n",
       "      <th>62</th>\n",
       "      <td>4620061.00</td>\n",
       "      <td>1</td>\n",
       "      <td>3</td>\n",
       "      <td>2</td>\n",
       "      <td>1</td>\n",
       "      <td>2</td>\n",
       "      <td>9.0</td>\n",
       "      <td>0.59</td>\n",
       "      <td>3221.2</td>\n",
       "      <td>699.0</td>\n",
       "    </tr>\n",
       "    <tr>\n",
       "      <th>47</th>\n",
       "      <td>4620047.00</td>\n",
       "      <td>2</td>\n",
       "      <td>3</td>\n",
       "      <td>2</td>\n",
       "      <td>2</td>\n",
       "      <td>4</td>\n",
       "      <td>13.0</td>\n",
       "      <td>0.41</td>\n",
       "      <td>6272.2</td>\n",
       "      <td>742.0</td>\n",
       "    </tr>\n",
       "    <tr>\n",
       "      <th>588</th>\n",
       "      <td>4620654.00</td>\n",
       "      <td>1</td>\n",
       "      <td>1</td>\n",
       "      <td>1</td>\n",
       "      <td>1</td>\n",
       "      <td>1</td>\n",
       "      <td>5.0</td>\n",
       "      <td>0.77</td>\n",
       "      <td>438.2</td>\n",
       "      <td>744.0</td>\n",
       "    </tr>\n",
       "    <tr>\n",
       "      <th>90</th>\n",
       "      <td>4620085.00</td>\n",
       "      <td>1</td>\n",
       "      <td>3</td>\n",
       "      <td>4</td>\n",
       "      <td>5</td>\n",
       "      <td>5</td>\n",
       "      <td>18.0</td>\n",
       "      <td>0.18</td>\n",
       "      <td>662.9</td>\n",
       "      <td>751.0</td>\n",
       "    </tr>\n",
       "    <tr>\n",
       "      <th>85</th>\n",
       "      <td>4620080.00</td>\n",
       "      <td>2</td>\n",
       "      <td>3</td>\n",
       "      <td>3</td>\n",
       "      <td>2</td>\n",
       "      <td>2</td>\n",
       "      <td>12.0</td>\n",
       "      <td>0.45</td>\n",
       "      <td>8657.0</td>\n",
       "      <td>780.0</td>\n",
       "    </tr>\n",
       "    <tr>\n",
       "      <th>167</th>\n",
       "      <td>4620153.00</td>\n",
       "      <td>1</td>\n",
       "      <td>3</td>\n",
       "      <td>2</td>\n",
       "      <td>3</td>\n",
       "      <td>2</td>\n",
       "      <td>11.0</td>\n",
       "      <td>0.50</td>\n",
       "      <td>2804.6</td>\n",
       "      <td>785.0</td>\n",
       "    </tr>\n",
       "    <tr>\n",
       "      <th>56</th>\n",
       "      <td>4620055.02</td>\n",
       "      <td>1</td>\n",
       "      <td>1</td>\n",
       "      <td>1</td>\n",
       "      <td>1</td>\n",
       "      <td>1</td>\n",
       "      <td>5.0</td>\n",
       "      <td>0.77</td>\n",
       "      <td>625.5</td>\n",
       "      <td>822.0</td>\n",
       "    </tr>\n",
       "    <tr>\n",
       "      <th>958</th>\n",
       "      <td>4622204.00</td>\n",
       "      <td>1</td>\n",
       "      <td>1</td>\n",
       "      <td>1</td>\n",
       "      <td>4</td>\n",
       "      <td>1</td>\n",
       "      <td>8.0</td>\n",
       "      <td>0.64</td>\n",
       "      <td>182.0</td>\n",
       "      <td>822.0</td>\n",
       "    </tr>\n",
       "    <tr>\n",
       "      <th>823</th>\n",
       "      <td>4620852.02</td>\n",
       "      <td>1</td>\n",
       "      <td>1</td>\n",
       "      <td>1</td>\n",
       "      <td>4</td>\n",
       "      <td>2</td>\n",
       "      <td>9.0</td>\n",
       "      <td>0.59</td>\n",
       "      <td>109.0</td>\n",
       "      <td>845.0</td>\n",
       "    </tr>\n",
       "    <tr>\n",
       "      <th>961</th>\n",
       "      <td>4622207.00</td>\n",
       "      <td>1</td>\n",
       "      <td>1</td>\n",
       "      <td>1</td>\n",
       "      <td>3</td>\n",
       "      <td>1</td>\n",
       "      <td>7.0</td>\n",
       "      <td>0.68</td>\n",
       "      <td>127.0</td>\n",
       "      <td>883.0</td>\n",
       "    </tr>\n",
       "    <tr>\n",
       "      <th>444</th>\n",
       "      <td>4620500.00</td>\n",
       "      <td>1</td>\n",
       "      <td>1</td>\n",
       "      <td>1</td>\n",
       "      <td>1</td>\n",
       "      <td>1</td>\n",
       "      <td>5.0</td>\n",
       "      <td>0.77</td>\n",
       "      <td>122.4</td>\n",
       "      <td>921.0</td>\n",
       "    </tr>\n",
       "    <tr>\n",
       "      <th>42</th>\n",
       "      <td>4620042.00</td>\n",
       "      <td>2</td>\n",
       "      <td>3</td>\n",
       "      <td>1</td>\n",
       "      <td>2</td>\n",
       "      <td>1</td>\n",
       "      <td>9.0</td>\n",
       "      <td>0.59</td>\n",
       "      <td>9200.8</td>\n",
       "      <td>944.0</td>\n",
       "    </tr>\n",
       "    <tr>\n",
       "      <th>587</th>\n",
       "      <td>4620653.00</td>\n",
       "      <td>1</td>\n",
       "      <td>1</td>\n",
       "      <td>1</td>\n",
       "      <td>1</td>\n",
       "      <td>1</td>\n",
       "      <td>5.0</td>\n",
       "      <td>0.77</td>\n",
       "      <td>1552.8</td>\n",
       "      <td>952.0</td>\n",
       "    </tr>\n",
       "    <tr>\n",
       "      <th>742</th>\n",
       "      <td>4620756.02</td>\n",
       "      <td>1</td>\n",
       "      <td>1</td>\n",
       "      <td>1</td>\n",
       "      <td>4</td>\n",
       "      <td>1</td>\n",
       "      <td>8.0</td>\n",
       "      <td>0.64</td>\n",
       "      <td>87.8</td>\n",
       "      <td>954.0</td>\n",
       "    </tr>\n",
       "    <tr>\n",
       "      <th>43</th>\n",
       "      <td>4620043.00</td>\n",
       "      <td>1</td>\n",
       "      <td>3</td>\n",
       "      <td>1</td>\n",
       "      <td>2</td>\n",
       "      <td>1</td>\n",
       "      <td>8.0</td>\n",
       "      <td>0.64</td>\n",
       "      <td>2869.7</td>\n",
       "      <td>1015.0</td>\n",
       "    </tr>\n",
       "  </tbody>\n",
       "</table>\n",
       "</div>"
      ],
      "text/plain": [
       "         GEOUID pop_rank_x lowInc_rank unemp_rank edu_rank lonepar_rank   sum  \\\n",
       "936  4622002.00          1           1          1        2            1   6.0   \n",
       "180  4620166.00          1           2          1        2            2   8.0   \n",
       "62   4620061.00          1           3          2        1            2   9.0   \n",
       "47   4620047.00          2           3          2        2            4  13.0   \n",
       "588  4620654.00          1           1          1        1            1   5.0   \n",
       "90   4620085.00          1           3          4        5            5  18.0   \n",
       "85   4620080.00          2           3          3        2            2  12.0   \n",
       "167  4620153.00          1           3          2        3            2  11.0   \n",
       "56   4620055.02          1           1          1        1            1   5.0   \n",
       "958  4622204.00          1           1          1        4            1   8.0   \n",
       "823  4620852.02          1           1          1        4            2   9.0   \n",
       "961  4622207.00          1           1          1        3            1   7.0   \n",
       "444  4620500.00          1           1          1        1            1   5.0   \n",
       "42   4620042.00          2           3          1        2            1   9.0   \n",
       "587  4620653.00          1           1          1        1            1   5.0   \n",
       "742  4620756.02          1           1          1        4            1   8.0   \n",
       "43   4620043.00          1           3          1        2            1   8.0   \n",
       "\n",
       "     score  pop_per_sqkm  pop_total_2016  \n",
       "936   0.73          18.8           417.0  \n",
       "180   0.64        2091.1           491.0  \n",
       "62    0.59        3221.2           699.0  \n",
       "47    0.41        6272.2           742.0  \n",
       "588   0.77         438.2           744.0  \n",
       "90    0.18         662.9           751.0  \n",
       "85    0.45        8657.0           780.0  \n",
       "167   0.50        2804.6           785.0  \n",
       "56    0.77         625.5           822.0  \n",
       "958   0.64         182.0           822.0  \n",
       "823   0.59         109.0           845.0  \n",
       "961   0.68         127.0           883.0  \n",
       "444   0.77         122.4           921.0  \n",
       "42    0.59        9200.8           944.0  \n",
       "587   0.77        1552.8           952.0  \n",
       "742   0.64          87.8           954.0  \n",
       "43    0.64        2869.7          1015.0  "
      ]
     },
     "execution_count": 67,
     "metadata": {},
     "output_type": "execute_result"
    }
   ],
   "source": [
    "final_df.nsmallest(17, 'pop_total_2016')"
   ]
  },
  {
   "cell_type": "code",
   "execution_count": null,
   "metadata": {},
   "outputs": [],
   "source": []
  },
  {
   "cell_type": "code",
   "execution_count": null,
   "metadata": {},
   "outputs": [],
   "source": []
  }
 ],
 "metadata": {
  "kernelspec": {
   "display_name": "Python",
   "language": "python",
   "name": "conda-env-python-py"
  },
  "language_info": {
   "codemirror_mode": {
    "name": "ipython",
    "version": 3
   },
   "file_extension": ".py",
   "mimetype": "text/x-python",
   "name": "python",
   "nbconvert_exporter": "python",
   "pygments_lexer": "ipython3",
   "version": "3.6.10"
  }
 },
 "nbformat": 4,
 "nbformat_minor": 4
}
